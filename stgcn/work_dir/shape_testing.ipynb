{
 "cells": [
  {
   "cell_type": "code",
   "execution_count": 1,
   "metadata": {},
   "outputs": [
    {
     "name": "stdout",
     "output_type": "stream",
     "text": [
      "hi\n"
     ]
    }
   ],
   "source": [
    "#Testing Jupyter Notebook working on vscode with remote server connected ssh\n",
    "print('hi')"
   ]
  },
  {
   "cell_type": "code",
   "execution_count": 2,
   "metadata": {},
   "outputs": [],
   "source": [
    "import os,sys\n",
    "from pathlib import Path\n",
    "\n",
    "import numpy as np\n",
    "import torch\n",
    "import pickle"
   ]
  },
  {
   "cell_type": "code",
   "execution_count": 3,
   "metadata": {},
   "outputs": [
    {
     "data": {
      "text/plain": [
       "((62, 3, 1000, 18, 1), (37, 3, 1000, 18, 1))"
      ]
     },
     "execution_count": 3,
     "metadata": {},
     "output_type": "execute_result"
    }
   ],
   "source": [
    "x_train = np.load(Path(\"./selfharm-skeleton/train_data.npy\"))\n",
    "y_train = pickle.load(open(\"./selfharm-skeleton/train_label.pkl\",'rb'))\n",
    "x_test = np.load(Path(\"./selfharm-skeleton/val_data.npy\"))\n",
    "y_test = pickle.load(open(\"./selfharm-skeleton/val_label.pkl\",'rb'))\n",
    "\n",
    "x_train.shape, x_test.shape"
   ]
  },
  {
   "cell_type": "code",
   "execution_count": 4,
   "metadata": {},
   "outputs": [],
   "source": [
    "# x_train[0].reshape((1000,18,3))"
   ]
  },
  {
   "cell_type": "code",
   "execution_count": 5,
   "metadata": {},
   "outputs": [
    {
     "name": "stdout",
     "output_type": "stream",
     "text": [
      "root:cctv_vid, dirs:2,files:0\n",
      "root:cctv_vid/selfharm, dirs:0,files:48\n",
      "root:cctv_vid/normal, dirs:0,files:51\n"
     ]
    }
   ],
   "source": [
    "for r,d,f in os.walk(Path(\"./cctv_vid\")):\n",
    "    print(f\"root:{r}, dirs:{len(d)},files:{len(f)}\")"
   ]
  },
  {
   "cell_type": "code",
   "execution_count": 6,
   "metadata": {},
   "outputs": [],
   "source": [
    "# keypoint check\n",
    "import matplotlib.pyplot as plt"
   ]
  },
  {
   "cell_type": "code",
   "execution_count": 7,
   "metadata": {},
   "outputs": [
    {
     "data": {
      "text/plain": [
       "(62, 3, 1000, 18)"
      ]
     },
     "execution_count": 7,
     "metadata": {},
     "output_type": "execute_result"
    }
   ],
   "source": [
    "x_train = x_train.squeeze()\n",
    "x_train.shape"
   ]
  },
  {
   "cell_type": "code",
   "execution_count": 8,
   "metadata": {},
   "outputs": [
    {
     "data": {
      "image/png": "[encoded data removed]",
      "text/plain": [
       "<Figure size 640x480 with 1 Axes>"
      ]
     },
     "metadata": {},
     "output_type": "display_data"
    }
   ],
   "source": [
    "x, y = x_train[0,:2,0,:]\n",
    "plt.scatter(x, y)\n",
    "plt.show()"
   ]
  },
  {
   "cell_type": "code",
   "execution_count": 9,
   "metadata": {},
   "outputs": [],
   "source": [
    "import os,sys\n",
    "sys.path.append(\"./st-gcn\")"
   ]
  },
  {
   "cell_type": "code",
   "execution_count": 10,
   "metadata": {},
   "outputs": [],
   "source": [
    "import st_gcn"
   ]
  },
  {
   "cell_type": "code",
   "execution_count": 11,
   "metadata": {},
   "outputs": [
    {
     "data": {
      "text/plain": [
       "device(type='cuda', index=0)"
      ]
     },
     "execution_count": 11,
     "metadata": {},
     "output_type": "execute_result"
    }
   ],
   "source": [
    "device = torch.device('cuda:0')\n",
    "device"
   ]
  },
  {
   "cell_type": "code",
   "execution_count": 12,
   "metadata": {},
   "outputs": [],
   "source": [
    "stgcn = st_gcn.net.st_gcn.Model(\n",
    "    num_class = 400, channel = 3, window_size=1000,\n",
    "    num_person=1,\n",
    "  num_point=18,\n",
    "  dropout=0,\n",
    "  graph=\"st_gcn.graph.Kinetics\",\n",
    "  graph_args = {\"labeling_mode\": 'spatial'}, mask_learning=True,\n",
    "  use_data_bn=True,\n",
    "    ).to(device)\n"
   ]
  },
  {
   "cell_type": "code",
   "execution_count": null,
   "metadata": {},
   "outputs": [],
   "source": []
  },
  {
   "cell_type": "code",
   "execution_count": 13,
   "metadata": {},
   "outputs": [
    {
     "data": {
      "text/plain": [
       "'/home/plass-oneshot/0hyun'"
      ]
     },
     "execution_count": 13,
     "metadata": {},
     "output_type": "execute_result"
    }
   ],
   "source": [
    "os.getcwd()"
   ]
  },
  {
   "cell_type": "code",
   "execution_count": 14,
   "metadata": {},
   "outputs": [
    {
     "name": "stdout",
     "output_type": "stream",
     "text": [
      "Can not find these weights:\n",
      "  backbone.6.down1.bn.num_batches_tracked\n",
      "  person_bn.num_batches_tracked\n",
      "  backbone.1.tcn1.bn.num_batches_tracked\n",
      "  backbone.1.gcn1.bn.num_batches_tracked\n",
      "  data_bn.running_mean\n",
      "  backbone.0.tcn1.bn.num_batches_tracked\n",
      "  backbone.6.tcn1.bn.num_batches_tracked\n",
      "  backbone.8.gcn1.bn.num_batches_tracked\n",
      "  tcn0.bn.num_batches_tracked\n",
      "  backbone.8.tcn1.bn.num_batches_tracked\n",
      "  backbone.2.gcn1.bn.num_batches_tracked\n",
      "  backbone.3.tcn1.bn.num_batches_tracked\n",
      "  backbone.6.gcn1.bn.num_batches_tracked\n",
      "  backbone.2.tcn1.bn.num_batches_tracked\n",
      "  backbone.4.tcn1.bn.num_batches_tracked\n",
      "  backbone.4.gcn1.bn.num_batches_tracked\n",
      "  backbone.5.tcn1.bn.num_batches_tracked\n",
      "  backbone.5.gcn1.bn.num_batches_tracked\n",
      "  backbone.3.down1.bn.num_batches_tracked\n",
      "  backbone.0.gcn1.bn.num_batches_tracked\n",
      "  data_bn.num_batches_tracked\n",
      "  data_bn.weight\n",
      "  backbone.7.tcn1.bn.num_batches_tracked\n",
      "  gcn0.bn.num_batches_tracked\n",
      "  backbone.7.gcn1.bn.num_batches_tracked\n",
      "  data_bn.running_var\n",
      "  backbone.3.gcn1.bn.num_batches_tracked\n",
      "  data_bn.bias\n"
     ]
    }
   ],
   "source": [
    "from collections import OrderedDict\n",
    "import torch\n",
    "weights = \"./st-gcn/model/kinetics-st_gcn.pt\"\n",
    "weights = torch.load(weights)\n",
    "\n",
    "weights = OrderedDict(\n",
    "                [\n",
    "                    [k.split(\"module.\")[-1], v]\n",
    "                    for k, v in weights.items()\n",
    "                ]\n",
    "            )\n",
    "\n",
    "for w in [\"data_bn.weight\",\"data_bn.bias\",\"data_bn.running_mean\",\"data_bn.running_var\"]:\n",
    "    weights.pop(w,None)\n",
    "try:\n",
    "    stgcn.load_state_dict(weights)\n",
    "except:\n",
    "    state = stgcn.state_dict()\n",
    "    diff = list(set(state.keys()).difference(set(weights.keys())))\n",
    "    print(\"Can not find these weights:\")\n",
    "    for d in diff:\n",
    "        print(\"  \" + d)\n",
    "    state.update(weights)\n",
    "    stgcn.load_state_dict(state)"
   ]
  },
  {
   "cell_type": "code",
   "execution_count": 15,
   "metadata": {},
   "outputs": [],
   "source": [
    "for i in stgcn.parameters():\n",
    "    i.requires_grad = False\n"
   ]
  },
  {
   "cell_type": "code",
   "execution_count": 16,
   "metadata": {},
   "outputs": [],
   "source": [
    "# fc_input_dim = net.fc.in_features\n",
    "import torch.nn as nn\n",
    "\n",
    "# net.fc = nn.Linear(fc_input_dim, 2)\n",
    "in_features = stgcn.fcn.in_channels\n",
    "stgcn.fcn = nn.Conv1d(in_features,2,kernel_size=(1,))\n"
   ]
  },
  {
   "cell_type": "code",
   "execution_count": 17,
   "metadata": {},
   "outputs": [
    {
     "name": "stdout",
     "output_type": "stream",
     "text": [
      "True\n",
      "True\n"
     ]
    }
   ],
   "source": [
    "for i in stgcn.fcn.parameters():\n",
    "    print(i.requires_grad)"
   ]
  },
  {
   "cell_type": "code",
   "execution_count": 18,
   "metadata": {},
   "outputs": [
    {
     "data": {
      "text/plain": [
       "((62, 3, 1000, 18), 62)"
      ]
     },
     "execution_count": 18,
     "metadata": {},
     "output_type": "execute_result"
    }
   ],
   "source": [
    "x_train.shape, len(y_train[0])"
   ]
  },
  {
   "cell_type": "code",
   "execution_count": 19,
   "metadata": {},
   "outputs": [],
   "source": [
    "stgcn.to(device)\n",
    "y = stgcn(torch.tensor(x_train).unsqueeze(-1).to(device))"
   ]
  },
  {
   "cell_type": "code",
   "execution_count": 20,
   "metadata": {},
   "outputs": [
    {
     "data": {
      "text/plain": [
       "(torch.Size([62, 2]),)"
      ]
     },
     "execution_count": 20,
     "metadata": {},
     "output_type": "execute_result"
    }
   ],
   "source": [
    "loss = nn.CrossEntropyLoss().to(device)\n",
    "y.shape, "
   ]
  },
  {
   "cell_type": "code",
   "execution_count": 21,
   "metadata": {},
   "outputs": [
    {
     "data": {
      "text/plain": [
       "torch.Size([62])"
      ]
     },
     "execution_count": 21,
     "metadata": {},
     "output_type": "execute_result"
    }
   ],
   "source": [
    "y_target = torch.tensor(y_train[1],requires_grad=False).to(device)\n",
    "y_target = y_target\n",
    "y_target.shape"
   ]
  },
  {
   "cell_type": "code",
   "execution_count": 22,
   "metadata": {},
   "outputs": [
    {
     "name": "stdout",
     "output_type": "stream",
     "text": [
      "cuda:0 cuda:0\n",
      "torch.Size([62, 2]) torch.Size([62])\n"
     ]
    }
   ],
   "source": [
    "print(y.device,y_target.device)\n",
    "print(y.shape,y_target.shape)"
   ]
  },
  {
   "cell_type": "code",
   "execution_count": 23,
   "metadata": {},
   "outputs": [
    {
     "data": {
      "text/plain": [
       "tensor(0.7330, device='cuda:0', grad_fn=<NllLossBackward0>)"
      ]
     },
     "execution_count": 23,
     "metadata": {},
     "output_type": "execute_result"
    }
   ],
   "source": [
    "loss(y,y_target)"
   ]
  },
  {
   "cell_type": "code",
   "execution_count": 24,
   "metadata": {},
   "outputs": [
    {
     "data": {
      "text/plain": [
       "(torch.Size([62, 3, 1000, 18, 1]),\n",
       " torch.Size([62]),\n",
       " torch.Size([37, 3, 1000, 18, 1]),\n",
       " torch.Size([37]))"
      ]
     },
     "execution_count": 24,
     "metadata": {},
     "output_type": "execute_result"
    }
   ],
   "source": [
    "x_train = np.load(Path(\"./selfharm-skeleton/train_data.npy\"))\n",
    "y_train = pickle.load(open(\"./selfharm-skeleton/train_label.pkl\",'rb'))\n",
    "x_test = np.load(Path(\"./selfharm-skeleton/val_data.npy\"))\n",
    "y_test = pickle.load(open(\"./selfharm-skeleton/val_label.pkl\",'rb'))\n",
    "\n",
    "x_train = torch.tensor(x_train).to(device)\n",
    "y_train = torch.tensor(y_train[1],requires_grad=False).to(device)\n",
    "x_test =  torch.tensor(x_test).to(device)\n",
    "y_test = torch.tensor(y_test[1],requires_grad=False).to(device)\n",
    "x_train.shape,y_train.shape,x_test.shape,y_test.shape"
   ]
  },
  {
   "cell_type": "code",
   "execution_count": 25,
   "metadata": {},
   "outputs": [
    {
     "name": "stdout",
     "output_type": "stream",
     "text": [
      "0\n",
      "loss : 0.7575473189353943, acc:0.10810810810810811\n",
      "eval loss : 0.757676899433136,acc:0.4838709677419355\n",
      "1\n",
      "loss : 0.6792033910751343, acc:0.2702702702702703\n",
      "eval loss : 0.7085791826248169,acc:0.4838709677419355\n",
      "2\n",
      "loss : 0.6204613447189331, acc:0.40540540540540543\n",
      "eval loss : 0.6741978526115417,acc:0.532258064516129\n",
      "3\n",
      "loss : 0.5785360932350159, acc:0.43243243243243246\n",
      "eval loss : 0.6494091749191284,acc:0.8709677419354839\n",
      "4\n",
      "loss : 0.5485681891441345, acc:0.43243243243243246\n",
      "eval loss : 0.6301261186599731,acc:0.5161290322580645\n",
      "5\n",
      "loss : 0.5263471007347107, acc:0.43243243243243246\n",
      "eval loss : 0.6143507361412048,acc:0.5161290322580645\n",
      "6\n",
      "loss : 0.5090533494949341, acc:0.43243243243243246\n",
      "eval loss : 0.6031399965286255,acc:0.5161290322580645\n",
      "7\n",
      "loss : 0.494942843914032, acc:0.43243243243243246\n",
      "eval loss : 0.5974999070167542,acc:0.5161290322580645\n",
      "8\n",
      "loss : 0.4829401969909668, acc:0.43243243243243246\n",
      "eval loss : 0.5991284251213074,acc:0.5161290322580645\n",
      "9\n",
      "loss : 0.4723682403564453, acc:0.43243243243243246\n",
      "eval loss : 0.59869384765625,acc:0.5161290322580645\n",
      "10\n",
      "loss : 0.46278876066207886, acc:0.43243243243243246\n",
      "eval loss : 0.5793271660804749,acc:0.5161290322580645\n",
      "11\n",
      "loss : 0.4539113938808441, acc:0.43243243243243246\n",
      "eval loss : 0.5610967874526978,acc:0.5161290322580645\n",
      "12\n",
      "loss : 0.4455399811267853, acc:0.43243243243243246\n",
      "eval loss : 0.5512959361076355,acc:0.5161290322580645\n",
      "13\n",
      "loss : 0.43754005432128906, acc:1.0\n",
      "eval loss : 0.5558823347091675,acc:0.5161290322580645\n",
      "14\n",
      "loss : 0.4298194646835327, acc:1.0\n",
      "eval loss : 0.5513179302215576,acc:0.5161290322580645\n",
      "15\n",
      "loss : 0.42231398820877075, acc:1.0\n",
      "eval loss : 0.5279332995414734,acc:0.5161290322580645\n",
      "16\n",
      "loss : 0.41498011350631714, acc:1.0\n",
      "eval loss : 0.5061251521110535,acc:0.5161290322580645\n",
      "17\n",
      "loss : 0.40778857469558716, acc:1.0\n",
      "eval loss : 0.49519217014312744,acc:0.5161290322580645\n",
      "18\n",
      "loss : 0.4007200002670288, acc:1.0\n",
      "eval loss : 0.4870094060897827,acc:0.5161290322580645\n",
      "19\n",
      "loss : 0.3937620222568512, acc:1.0\n",
      "eval loss : 0.48408153653144836,acc:0.5161290322580645\n",
      "20\n",
      "loss : 0.3869076371192932, acc:1.0\n",
      "eval loss : 0.47420212626457214,acc:0.9516129032258065\n",
      "21\n",
      "loss : 0.3801535964012146, acc:1.0\n",
      "eval loss : 0.46326392889022827,acc:0.9516129032258065\n",
      "22\n",
      "loss : 0.373498797416687, acc:1.0\n",
      "eval loss : 0.45943325757980347,acc:0.9516129032258065\n",
      "23\n",
      "loss : 0.36694392561912537, acc:1.0\n",
      "eval loss : 0.4538430869579315,acc:0.9516129032258065\n",
      "24\n",
      "loss : 0.36049073934555054, acc:1.0\n",
      "eval loss : 0.44606342911720276,acc:0.9516129032258065\n",
      "25\n",
      "loss : 0.35414209961891174, acc:1.0\n",
      "eval loss : 0.44092047214508057,acc:0.9516129032258065\n",
      "26\n",
      "loss : 0.34790050983428955, acc:1.0\n",
      "eval loss : 0.4389677941799164,acc:0.9516129032258065\n",
      "27\n",
      "loss : 0.3417682647705078, acc:1.0\n",
      "eval loss : 0.43639376759529114,acc:0.9516129032258065\n",
      "28\n",
      "loss : 0.3357487618923187, acc:1.0\n",
      "eval loss : 0.4342713952064514,acc:0.9516129032258065\n",
      "29\n",
      "loss : 0.3298438787460327, acc:1.0\n",
      "eval loss : 0.4313857853412628,acc:0.9516129032258065\n",
      "30\n",
      "loss : 0.32405585050582886, acc:1.0\n",
      "eval loss : 0.42700648307800293,acc:0.9516129032258065\n",
      "31\n",
      "loss : 0.3183862864971161, acc:1.0\n",
      "eval loss : 0.4224793612957001,acc:0.9516129032258065\n",
      "32\n",
      "loss : 0.3128361403942108, acc:1.0\n",
      "eval loss : 0.4161975383758545,acc:0.9516129032258065\n",
      "33\n",
      "loss : 0.30740615725517273, acc:1.0\n",
      "eval loss : 0.40869468450546265,acc:0.9516129032258065\n",
      "34\n",
      "loss : 0.3020968437194824, acc:1.0\n",
      "eval loss : 0.40166908502578735,acc:0.9516129032258065\n",
      "35\n",
      "loss : 0.2969077229499817, acc:1.0\n",
      "eval loss : 0.3953319489955902,acc:0.9516129032258065\n",
      "36\n",
      "loss : 0.2918383479118347, acc:1.0\n",
      "eval loss : 0.3889247477054596,acc:0.9516129032258065\n",
      "37\n",
      "loss : 0.28688758611679077, acc:1.0\n",
      "eval loss : 0.38217055797576904,acc:0.9516129032258065\n",
      "38\n",
      "loss : 0.28205421566963196, acc:1.0\n",
      "eval loss : 0.3763904571533203,acc:0.9516129032258065\n",
      "39\n",
      "loss : 0.2773362398147583, acc:1.0\n",
      "eval loss : 0.3711116909980774,acc:0.9516129032258065\n",
      "40\n",
      "loss : 0.2727319896221161, acc:1.0\n",
      "eval loss : 0.366248220205307,acc:0.9516129032258065\n",
      "41\n",
      "loss : 0.2682388722896576, acc:1.0\n",
      "eval loss : 0.36234933137893677,acc:0.9516129032258065\n",
      "42\n",
      "loss : 0.26385459303855896, acc:1.0\n",
      "eval loss : 0.3587973117828369,acc:0.9516129032258065\n",
      "43\n",
      "loss : 0.25957638025283813, acc:1.0\n",
      "eval loss : 0.35484543442726135,acc:0.9516129032258065\n",
      "44\n",
      "loss : 0.2554018199443817, acc:1.0\n",
      "eval loss : 0.3511570692062378,acc:0.9516129032258065\n",
      "45\n",
      "loss : 0.25132766366004944, acc:1.0\n",
      "eval loss : 0.34887275099754333,acc:0.9516129032258065\n",
      "46\n",
      "loss : 0.2473512887954712, acc:1.0\n",
      "eval loss : 0.3467015027999878,acc:0.9516129032258065\n",
      "47\n",
      "loss : 0.2434694916009903, acc:1.0\n",
      "eval loss : 0.34464535117149353,acc:0.9516129032258065\n",
      "48\n",
      "loss : 0.23967966437339783, acc:1.0\n",
      "eval loss : 0.3424631655216217,acc:0.9516129032258065\n",
      "49\n",
      "loss : 0.23597858846187592, acc:1.0\n",
      "eval loss : 0.3401898741722107,acc:0.9516129032258065\n",
      "50\n",
      "loss : 0.23236365616321564, acc:1.0\n",
      "eval loss : 0.33787548542022705,acc:0.9516129032258065\n",
      "51\n",
      "loss : 0.2288319319486618, acc:1.0\n",
      "eval loss : 0.33569204807281494,acc:0.9516129032258065\n",
      "52\n",
      "loss : 0.2253807932138443, acc:1.0\n",
      "eval loss : 0.3337510824203491,acc:0.9516129032258065\n",
      "53\n",
      "loss : 0.22200770676136017, acc:1.0\n",
      "eval loss : 0.33207234740257263,acc:0.9516129032258065\n",
      "54\n",
      "loss : 0.21870991587638855, acc:1.0\n",
      "eval loss : 0.3309720754623413,acc:0.9516129032258065\n",
      "55\n",
      "loss : 0.21548506617546082, acc:1.0\n",
      "eval loss : 0.33016395568847656,acc:0.9516129032258065\n",
      "56\n",
      "loss : 0.21233120560646057, acc:1.0\n",
      "eval loss : 0.32964026927948,acc:0.9516129032258065\n",
      "57\n",
      "loss : 0.20924586057662964, acc:1.0\n",
      "eval loss : 0.3293437361717224,acc:0.9516129032258065\n",
      "58\n",
      "loss : 0.20622703433036804, acc:1.0\n",
      "eval loss : 0.32904720306396484,acc:0.9516129032258065\n",
      "59\n",
      "loss : 0.2032727301120758, acc:1.0\n",
      "eval loss : 0.3287460505962372,acc:0.9516129032258065\n",
      "60\n",
      "loss : 0.2003813087940216, acc:1.0\n",
      "eval loss : 0.328573077917099,acc:0.9516129032258065\n",
      "61\n",
      "loss : 0.1975506693124771, acc:1.0\n",
      "eval loss : 0.3283681571483612,acc:0.9516129032258065\n",
      "62\n",
      "loss : 0.19477924704551697, acc:1.0\n",
      "eval loss : 0.32801806926727295,acc:0.9516129032258065\n",
      "63\n",
      "loss : 0.1920657604932785, acc:1.0\n",
      "eval loss : 0.3277607262134552,acc:0.9516129032258065\n",
      "64\n",
      "loss : 0.18940837681293488, acc:1.0\n",
      "eval loss : 0.3275747001171112,acc:0.9516129032258065\n",
      "65\n",
      "loss : 0.18680556118488312, acc:1.0\n",
      "eval loss : 0.3273979723453522,acc:0.9516129032258065\n",
      "66\n",
      "loss : 0.1842563897371292, acc:1.0\n",
      "eval loss : 0.3271649181842804,acc:0.9516129032258065\n",
      "67\n",
      "loss : 0.18175895512104034, acc:1.0\n",
      "eval loss : 0.3270076811313629,acc:0.9516129032258065\n",
      "68\n",
      "loss : 0.17931263148784637, acc:1.0\n",
      "eval loss : 0.3268442153930664,acc:0.9516129032258065\n",
      "69\n",
      "loss : 0.1769157499074936, acc:1.0\n",
      "eval loss : 0.32671332359313965,acc:0.9516129032258065\n",
      "70\n",
      "loss : 0.17456738650798798, acc:1.0\n",
      "eval loss : 0.3265934884548187,acc:0.9516129032258065\n",
      "71\n",
      "loss : 0.1722661852836609, acc:1.0\n",
      "eval loss : 0.326490193605423,acc:0.9516129032258065\n",
      "72\n",
      "loss : 0.17001113295555115, acc:1.0\n",
      "eval loss : 0.3263798654079437,acc:0.9516129032258065\n",
      "73\n",
      "loss : 0.16780127584934235, acc:1.0\n",
      "eval loss : 0.3262818455696106,acc:0.9516129032258065\n",
      "74\n",
      "loss : 0.16563543677330017, acc:1.0\n",
      "eval loss : 0.32620754837989807,acc:0.9516129032258065\n",
      "75\n",
      "loss : 0.163512721657753, acc:1.0\n",
      "eval loss : 0.32615187764167786,acc:0.9516129032258065\n",
      "76\n",
      "loss : 0.16143199801445007, acc:1.0\n",
      "eval loss : 0.3260924816131592,acc:0.9516129032258065\n",
      "77\n",
      "loss : 0.15939252078533173, acc:1.0\n",
      "eval loss : 0.32606327533721924,acc:0.9516129032258065\n",
      "78\n",
      "loss : 0.15739306807518005, acc:1.0\n",
      "eval loss : 0.3260619044303894,acc:0.9516129032258065\n",
      "79\n",
      "loss : 0.15543293952941895, acc:1.0\n",
      "eval loss : 0.3260801136493683,acc:0.9516129032258065\n",
      "80\n",
      "loss : 0.1535111665725708, acc:1.0\n",
      "eval loss : 0.3261069357395172,acc:0.9516129032258065\n",
      "81\n",
      "loss : 0.1516267955303192, acc:1.0\n",
      "eval loss : 0.326154887676239,acc:0.9516129032258065\n",
      "82\n",
      "loss : 0.1497790515422821, acc:1.0\n",
      "eval loss : 0.3262164890766144,acc:0.9516129032258065\n",
      "83\n",
      "loss : 0.14796698093414307, acc:1.0\n",
      "eval loss : 0.3262914717197418,acc:0.9516129032258065\n",
      "84\n",
      "loss : 0.1461898386478424, acc:1.0\n",
      "eval loss : 0.3263809084892273,acc:0.9516129032258065\n",
      "85\n",
      "loss : 0.14444676041603088, acc:1.0\n",
      "eval loss : 0.32648518681526184,acc:0.9516129032258065\n",
      "86\n",
      "loss : 0.1427370309829712, acc:1.0\n",
      "eval loss : 0.32660236954689026,acc:0.9516129032258065\n",
      "87\n",
      "loss : 0.1410597711801529, acc:1.0\n",
      "eval loss : 0.3267311751842499,acc:0.9516129032258065\n",
      "88\n",
      "loss : 0.13941426575183868, acc:1.0\n",
      "eval loss : 0.3268723785877228,acc:0.9516129032258065\n",
      "89\n",
      "loss : 0.13779978454113007, acc:1.0\n",
      "eval loss : 0.32702621817588806,acc:0.9516129032258065\n",
      "90\n",
      "loss : 0.13621565699577332, acc:1.0\n",
      "eval loss : 0.3271941840648651,acc:0.9516129032258065\n",
      "91\n",
      "loss : 0.13466107845306396, acc:1.0\n",
      "eval loss : 0.3273719847202301,acc:0.9516129032258065\n",
      "92\n",
      "loss : 0.1331353336572647, acc:1.0\n",
      "eval loss : 0.32755976915359497,acc:0.9516129032258065\n",
      "93\n",
      "loss : 0.1316378265619278, acc:1.0\n",
      "eval loss : 0.3277568519115448,acc:0.9516129032258065\n",
      "94\n",
      "loss : 0.13016781210899353, acc:1.0\n",
      "eval loss : 0.3279629051685333,acc:0.9516129032258065\n",
      "95\n",
      "loss : 0.12872479856014252, acc:1.0\n",
      "eval loss : 0.32817769050598145,acc:0.9516129032258065\n",
      "96\n",
      "loss : 0.12730802595615387, acc:1.0\n",
      "eval loss : 0.32840076088905334,acc:0.9516129032258065\n",
      "97\n",
      "loss : 0.12591683864593506, acc:1.0\n",
      "eval loss : 0.32863152027130127,acc:0.9516129032258065\n",
      "98\n",
      "loss : 0.12455081939697266, acc:1.0\n",
      "eval loss : 0.32887089252471924,acc:0.9516129032258065\n",
      "99\n",
      "loss : 0.12320924550294876, acc:1.0\n",
      "eval loss : 0.3291178345680237,acc:0.9516129032258065\n"
     ]
    }
   ],
   "source": [
    "import torch.optim as optim\n",
    "epochs = 100\n",
    "optimizer = optim.Adam(stgcn.parameters(), lr=0.001)\n",
    "for i in range(epochs):\n",
    "    stgcn.train()\n",
    "    output = stgcn(x_test)\n",
    "    optimizer.zero_grad()\n",
    "\n",
    "    l = loss(output,y_test)\n",
    "    l.backward()\n",
    "    optimizer.step()\n",
    "    print(i)\n",
    "    _, preds = torch.max(output, 1)\n",
    "    print(f'loss : {l}, acc:{(preds== y_test).sum().item() / len(y_test)}')\n",
    "    \n",
    "    \n",
    "    with torch.no_grad():\n",
    "        stgcn.eval()\n",
    "        output = stgcn(x_train)\n",
    "        _, preds = torch.max(output, 1)\n",
    "        print(f\"eval loss : {loss(output,y_train)},acc:{(preds== y_train).sum().item() / len(y_train)}\")\n",
    "\n",
    "\n",
    "\n"
   ]
  },
  {
   "cell_type": "code",
   "execution_count": null,
   "metadata": {},
   "outputs": [],
   "source": []
  }
 ],
 "metadata": {
  "kernelspec": {
   "display_name": "Python 3.8.13 ('0hyun': conda)",
   "language": "python",
   "name": "python3"
  },
  "language_info": {
   "codemirror_mode": {
    "name": "ipython",
    "version": 3
   },
   "file_extension": ".py",
   "mimetype": "text/x-python",
   "name": "python",
   "nbconvert_exporter": "python",
   "pygments_lexer": "ipython3",
   "version": "3.8.13"
  },
  "orig_nbformat": 4,
  "vscode": {
   "interpreter": {
    "hash": "a19b1a1ee78b68ce7f5bcde1167d1a9c78af20d35526ed04464ebc3beb5b64ff"
   }
  }
 },
 "nbformat": 4,
 "nbformat_minor": 2
}
